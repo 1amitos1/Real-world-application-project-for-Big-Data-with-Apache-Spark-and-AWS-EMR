{
 "cells": [
  {
   "cell_type": "code",
   "execution_count": 9,
   "id": "ae77437a",
   "metadata": {},
   "outputs": [
    {
     "data": {
      "application/vnd.jupyter.widget-view+json": {
       "model_id": "",
       "version_major": 2,
       "version_minor": 0
      },
      "text/plain": [
       "FloatProgress(value=0.0, bar_style='info', description='Progress:', layout=Layout(height='25px', width='50%'),…"
      ]
     },
     "metadata": {},
     "output_type": "display_data"
    }
   ],
   "source": [
    "import sys\n",
    "from awsglue.transforms import *\n",
    "from awsglue.utils import getResolvedOptions\n",
    "from pyspark.context import SparkContext\n",
    "from awsglue.context import GlueContext\n",
    "from awsglue.job import Job\n",
    "\n",
    "glueContext = GlueContext(SparkContext.getOrCreate())"
   ]
  },
  {
   "cell_type": "code",
   "execution_count": 15,
   "id": "f7b8321b",
   "metadata": {},
   "outputs": [
    {
     "data": {
      "application/vnd.jupyter.widget-view+json": {
       "model_id": "",
       "version_major": 2,
       "version_minor": 0
      },
      "text/plain": [
       "FloatProgress(value=0.0, bar_style='info', description='Progress:', layout=Layout(height='25px', width='50%'),…"
      ]
     },
     "metadata": {},
     "output_type": "display_data"
    }
   ],
   "source": [
    "salesDF = glueContext.create_dynamic_frame.from_catalog(\n",
    "             database=\"amitdbetl\",\n",
    "             table_name=\"sales\")\n",
    "customerDF = glueContext.create_dynamic_frame.from_catalog(\n",
    "             database=\"amitdbetl\",\n",
    "             table_name=\"customers\")"
   ]
  },
  {
   "cell_type": "code",
   "execution_count": 16,
   "id": "7b311610",
   "metadata": {},
   "outputs": [
    {
     "data": {
      "application/vnd.jupyter.widget-view+json": {
       "model_id": "",
       "version_major": 2,
       "version_minor": 0
      },
      "text/plain": [
       "FloatProgress(value=0.0, bar_style='info', description='Progress:', layout=Layout(height='25px', width='50%'),…"
      ]
     },
     "metadata": {},
     "output_type": "display_data"
    },
    {
     "name": "stdout",
     "output_type": "stream",
     "text": [
      "+----------+--------------------+--------------------+-------------+---------+---------+----------------+---------------+\n",
      "|customerid|        customername|               email|         city|  country|territory|contactfirstname|contactlastname|\n",
      "+----------+--------------------+--------------------+-------------+---------+---------+----------------+---------------+\n",
      "|         1|   Land of Toys Inc.|  gladys.rim@rim.org|          NYC|      USA|       NA|           James|           Butt|\n",
      "|         2|  Reims Collectables|yuki_whobrey@aol.com|        Reims|   France|     EMEA|       Josephine|        Darakjy|\n",
      "|         3|     Lyon Souveniers|fletcher.flosi@ya...|        Paris|   France|     EMEA|             Art|         Venere|\n",
      "|         4|   Toys4GrownUps.com| bette_nicka@cox.net|     Pasadena|      USA|       NA|           Lenna|       Paprocki|\n",
      "|         5|Corporate Gift Id...|     vinouye@aol.com|San Francisco|      USA|       NA|         Donette|         Foller|\n",
      "|         6|Technics Stores Inc.|  gladys.rim@rim.org|   Burlingame|      USA|       NA|          Simona|        Morasca|\n",
      "|         7|Daedalus Designs ...|yuki_whobrey@aol.com|        Lille|   France|     EMEA|          Mitsue|        Tollner|\n",
      "|         8|        Herkku Gifts|fletcher.flosi@ya...|       Bergen|   Norway|     EMEA|           Leota|       Dilliard|\n",
      "|         9|     Mini Wheels Co.| bette_nicka@cox.net|San Francisco|      USA|       NA|            Sage|         Wieser|\n",
      "|        10|    Auto Canal Petit|     vinouye@aol.com|        Paris|   France|     EMEA|            Kris|        Marrier|\n",
      "|        11|Australian Collec...|  gladys.rim@rim.org|    Melbourne|Australia|     APAC|           Minna|         Amigon|\n",
      "|        12|     Vitachrome Inc.|yuki_whobrey@aol.com|          NYC|      USA|       NA|            Abel|        Maclead|\n",
      "|        13|Tekni Collectable...|fletcher.flosi@ya...|       Newark|      USA|       NA|           Kiley|      Caldarera|\n",
      "|        14|     Gift Depot Inc.| bette_nicka@cox.net|  Bridgewater|      USA|       NA|        Graciela|           Ruta|\n",
      "|        15|   La Rochelle Gifts|     vinouye@aol.com|       Nantes|   France|     EMEA|           Cammy|        Albares|\n",
      "|        16|Marta's Replicas Co.|  gladys.rim@rim.org|    Cambridge|      USA|       NA|          Mattie|       Poquette|\n",
      "|        17| Toys of Finland Co.|yuki_whobrey@aol.com|     Helsinki|  Finland|     EMEA|         Meaghan|         Garufi|\n",
      "|        18|  Baane Mini Imports|fletcher.flosi@ya...|      Stavern|   Norway|     EMEA|          Gladys|            Rim|\n",
      "|        19|Diecast Classics ...| bette_nicka@cox.net|    Allentown|      USA|       NA|            Yuki|        Whobrey|\n",
      "|        20|   Land of Toys Inc.|     vinouye@aol.com|          NYC|      USA|       NA|        Fletcher|          Flosi|\n",
      "+----------+--------------------+--------------------+-------------+---------+---------+----------------+---------------+\n",
      "only showing top 20 rows"
     ]
    }
   ],
   "source": [
    "customerDF.toDF().show()"
   ]
  },
  {
   "cell_type": "markdown",
   "id": "e39278d6",
   "metadata": {},
   "source": [
    "---Update the Data in the Dynamicframe from the customers table in the amitdbetl database."
   ]
  },
  {
   "cell_type": "code",
   "execution_count": 18,
   "id": "de5a4864",
   "metadata": {},
   "outputs": [
    {
     "data": {
      "application/vnd.jupyter.widget-view+json": {
       "model_id": "",
       "version_major": 2,
       "version_minor": 0
      },
      "text/plain": [
       "FloatProgress(value=0.0, bar_style='info', description='Progress:', layout=Layout(height='25px', width='50%'),…"
      ]
     },
     "metadata": {},
     "output_type": "display_data"
    }
   ],
   "source": [
    "customersDF = glueContext.create_dynamic_frame.from_catalog(\n",
    "             database=\"amitdbetl\",\n",
    "             table_name=\"customers\")"
   ]
  },
  {
   "cell_type": "code",
   "execution_count": 19,
   "id": "5a79601e",
   "metadata": {},
   "outputs": [
    {
     "data": {
      "application/vnd.jupyter.widget-view+json": {
       "model_id": "",
       "version_major": 2,
       "version_minor": 0
      },
      "text/plain": [
       "FloatProgress(value=0.0, bar_style='info', description='Progress:', layout=Layout(height='25px', width='50%'),…"
      ]
     },
     "metadata": {},
     "output_type": "display_data"
    }
   ],
   "source": [
    "def addcolumns(rec):\n",
    "    rec[\"contactfullname\"] = {}\n",
    "    rec[\"contactfullname\"] = rec[\"contactfirstname\"] + ' ' + rec[\"contactlastname\"]\n",
    "    return rec"
   ]
  },
  {
   "cell_type": "code",
   "execution_count": 21,
   "id": "28556c71",
   "metadata": {},
   "outputs": [
    {
     "data": {
      "application/vnd.jupyter.widget-view+json": {
       "model_id": "",
       "version_major": 2,
       "version_minor": 0
      },
      "text/plain": [
       "FloatProgress(value=0.0, bar_style='info', description='Progress:', layout=Layout(height='25px', width='50%'),…"
      ]
     },
     "metadata": {},
     "output_type": "display_data"
    },
    {
     "name": "stdout",
     "output_type": "stream",
     "text": [
      "+---------+--------------------+-------------+---------------+-----------------+---------+--------------------+----------------+----------+\n",
      "|territory|        customername|         city|contactlastname|  contactfullname|  country|               email|contactfirstname|customerid|\n",
      "+---------+--------------------+-------------+---------------+-----------------+---------+--------------------+----------------+----------+\n",
      "|       NA|   Land of Toys Inc.|          NYC|           Butt|       James Butt|      USA|  gladys.rim@rim.org|           James|         1|\n",
      "|     EMEA|  Reims Collectables|        Reims|        Darakjy|Josephine Darakjy|   France|yuki_whobrey@aol.com|       Josephine|         2|\n",
      "|     EMEA|     Lyon Souveniers|        Paris|         Venere|       Art Venere|   France|fletcher.flosi@ya...|             Art|         3|\n",
      "|       NA|   Toys4GrownUps.com|     Pasadena|       Paprocki|   Lenna Paprocki|      USA| bette_nicka@cox.net|           Lenna|         4|\n",
      "|       NA|Corporate Gift Id...|San Francisco|         Foller|   Donette Foller|      USA|     vinouye@aol.com|         Donette|         5|\n",
      "|       NA|Technics Stores Inc.|   Burlingame|        Morasca|   Simona Morasca|      USA|  gladys.rim@rim.org|          Simona|         6|\n",
      "|     EMEA|Daedalus Designs ...|        Lille|        Tollner|   Mitsue Tollner|   France|yuki_whobrey@aol.com|          Mitsue|         7|\n",
      "|     EMEA|        Herkku Gifts|       Bergen|       Dilliard|   Leota Dilliard|   Norway|fletcher.flosi@ya...|           Leota|         8|\n",
      "|       NA|     Mini Wheels Co.|San Francisco|         Wieser|      Sage Wieser|      USA| bette_nicka@cox.net|            Sage|         9|\n",
      "|     EMEA|    Auto Canal Petit|        Paris|        Marrier|     Kris Marrier|   France|     vinouye@aol.com|            Kris|        10|\n",
      "|     APAC|Australian Collec...|    Melbourne|         Amigon|     Minna Amigon|Australia|  gladys.rim@rim.org|           Minna|        11|\n",
      "|       NA|     Vitachrome Inc.|          NYC|        Maclead|     Abel Maclead|      USA|yuki_whobrey@aol.com|            Abel|        12|\n",
      "|       NA|Tekni Collectable...|       Newark|      Caldarera|  Kiley Caldarera|      USA|fletcher.flosi@ya...|           Kiley|        13|\n",
      "|       NA|     Gift Depot Inc.|  Bridgewater|           Ruta|    Graciela Ruta|      USA| bette_nicka@cox.net|        Graciela|        14|\n",
      "|     EMEA|   La Rochelle Gifts|       Nantes|        Albares|    Cammy Albares|   France|     vinouye@aol.com|           Cammy|        15|\n",
      "|       NA|Marta's Replicas Co.|    Cambridge|       Poquette|  Mattie Poquette|      USA|  gladys.rim@rim.org|          Mattie|        16|\n",
      "|     EMEA| Toys of Finland Co.|     Helsinki|         Garufi|   Meaghan Garufi|  Finland|yuki_whobrey@aol.com|         Meaghan|        17|\n",
      "|     EMEA|  Baane Mini Imports|      Stavern|            Rim|       Gladys Rim|   Norway|fletcher.flosi@ya...|          Gladys|        18|\n",
      "|       NA|Diecast Classics ...|    Allentown|        Whobrey|     Yuki Whobrey|      USA| bette_nicka@cox.net|            Yuki|        19|\n",
      "|       NA|   Land of Toys Inc.|          NYC|          Flosi|   Fletcher Flosi|      USA|     vinouye@aol.com|        Fletcher|        20|\n",
      "+---------+--------------------+-------------+---------------+-----------------+---------+--------------------+----------------+----------+\n",
      "only showing top 20 rows"
     ]
    }
   ],
   "source": [
    "customersDF =  Map.apply(customersDF, f = addcolumns)\n",
    "customersDF.toDF().show();"
   ]
  },
  {
   "cell_type": "code",
   "execution_count": 22,
   "id": "d3d9cbdb",
   "metadata": {},
   "outputs": [
    {
     "data": {
      "application/vnd.jupyter.widget-view+json": {
       "model_id": "",
       "version_major": 2,
       "version_minor": 0
      },
      "text/plain": [
       "FloatProgress(value=0.0, bar_style='info', description='Progress:', layout=Layout(height='25px', width='50%'),…"
      ]
     },
     "metadata": {},
     "output_type": "display_data"
    },
    {
     "name": "stdout",
     "output_type": "stream",
     "text": [
      "+---------+--------------------+-------------+-----------------+---------+--------------------+----------+\n",
      "|territory|        customername|         city|  contactfullname|  country|               email|customerid|\n",
      "+---------+--------------------+-------------+-----------------+---------+--------------------+----------+\n",
      "|       NA|   Land of Toys Inc.|          NYC|       James Butt|      USA|  gladys.rim@rim.org|         1|\n",
      "|     EMEA|  Reims Collectables|        Reims|Josephine Darakjy|   France|yuki_whobrey@aol.com|         2|\n",
      "|     EMEA|     Lyon Souveniers|        Paris|       Art Venere|   France|fletcher.flosi@ya...|         3|\n",
      "|       NA|   Toys4GrownUps.com|     Pasadena|   Lenna Paprocki|      USA| bette_nicka@cox.net|         4|\n",
      "|       NA|Corporate Gift Id...|San Francisco|   Donette Foller|      USA|     vinouye@aol.com|         5|\n",
      "|       NA|Technics Stores Inc.|   Burlingame|   Simona Morasca|      USA|  gladys.rim@rim.org|         6|\n",
      "|     EMEA|Daedalus Designs ...|        Lille|   Mitsue Tollner|   France|yuki_whobrey@aol.com|         7|\n",
      "|     EMEA|        Herkku Gifts|       Bergen|   Leota Dilliard|   Norway|fletcher.flosi@ya...|         8|\n",
      "|       NA|     Mini Wheels Co.|San Francisco|      Sage Wieser|      USA| bette_nicka@cox.net|         9|\n",
      "|     EMEA|    Auto Canal Petit|        Paris|     Kris Marrier|   France|     vinouye@aol.com|        10|\n",
      "|     APAC|Australian Collec...|    Melbourne|     Minna Amigon|Australia|  gladys.rim@rim.org|        11|\n",
      "|       NA|     Vitachrome Inc.|          NYC|     Abel Maclead|      USA|yuki_whobrey@aol.com|        12|\n",
      "|       NA|Tekni Collectable...|       Newark|  Kiley Caldarera|      USA|fletcher.flosi@ya...|        13|\n",
      "|       NA|     Gift Depot Inc.|  Bridgewater|    Graciela Ruta|      USA| bette_nicka@cox.net|        14|\n",
      "|     EMEA|   La Rochelle Gifts|       Nantes|    Cammy Albares|   France|     vinouye@aol.com|        15|\n",
      "|       NA|Marta's Replicas Co.|    Cambridge|  Mattie Poquette|      USA|  gladys.rim@rim.org|        16|\n",
      "|     EMEA| Toys of Finland Co.|     Helsinki|   Meaghan Garufi|  Finland|yuki_whobrey@aol.com|        17|\n",
      "|     EMEA|  Baane Mini Imports|      Stavern|       Gladys Rim|   Norway|fletcher.flosi@ya...|        18|\n",
      "|       NA|Diecast Classics ...|    Allentown|     Yuki Whobrey|      USA| bette_nicka@cox.net|        19|\n",
      "|       NA|   Land of Toys Inc.|          NYC|   Fletcher Flosi|      USA|     vinouye@aol.com|        20|\n",
      "+---------+--------------------+-------------+-----------------+---------+--------------------+----------+\n",
      "only showing top 20 rows"
     ]
    }
   ],
   "source": [
    "customersDF = DropFields.apply(customersDF,[\"contactfirstname\",\"contactlastname\"])\n",
    "customersDF.toDF().show()"
   ]
  },
  {
   "cell_type": "code",
   "execution_count": 23,
   "id": "1294f447",
   "metadata": {},
   "outputs": [
    {
     "data": {
      "application/vnd.jupyter.widget-view+json": {
       "model_id": "",
       "version_major": 2,
       "version_minor": 0
      },
      "text/plain": [
       "FloatProgress(value=0.0, bar_style='info', description='Progress:', layout=Layout(height='25px', width='50%'),…"
      ]
     },
     "metadata": {},
     "output_type": "display_data"
    }
   ],
   "source": [
    "def parsedomain(rec):\n",
    "    rec[\"domain\"] = {}\n",
    "    indx = rec[\"email\"].index('@')\n",
    "    rec[\"domain\"] = rec[\"email\"][indx + 1:]\n",
    "    return rec"
   ]
  },
  {
   "cell_type": "code",
   "execution_count": 24,
   "id": "d89f9483",
   "metadata": {},
   "outputs": [
    {
     "data": {
      "application/vnd.jupyter.widget-view+json": {
       "model_id": "",
       "version_major": 2,
       "version_minor": 0
      },
      "text/plain": [
       "FloatProgress(value=0.0, bar_style='info', description='Progress:', layout=Layout(height='25px', width='50%'),…"
      ]
     },
     "metadata": {},
     "output_type": "display_data"
    },
    {
     "name": "stdout",
     "output_type": "stream",
     "text": [
      "+---------+--------------------+---------+-------------+-----------------+---------+--------------------+----------+\n",
      "|territory|        customername|   domain|         city|  contactfullname|  country|               email|customerid|\n",
      "+---------+--------------------+---------+-------------+-----------------+---------+--------------------+----------+\n",
      "|       NA|   Land of Toys Inc.|  rim.org|          NYC|       James Butt|      USA|  gladys.rim@rim.org|         1|\n",
      "|     EMEA|  Reims Collectables|  aol.com|        Reims|Josephine Darakjy|   France|yuki_whobrey@aol.com|         2|\n",
      "|     EMEA|     Lyon Souveniers|yahoo.com|        Paris|       Art Venere|   France|fletcher.flosi@ya...|         3|\n",
      "|       NA|   Toys4GrownUps.com|  cox.net|     Pasadena|   Lenna Paprocki|      USA| bette_nicka@cox.net|         4|\n",
      "|       NA|Corporate Gift Id...|  aol.com|San Francisco|   Donette Foller|      USA|     vinouye@aol.com|         5|\n",
      "|       NA|Technics Stores Inc.|  rim.org|   Burlingame|   Simona Morasca|      USA|  gladys.rim@rim.org|         6|\n",
      "|     EMEA|Daedalus Designs ...|  aol.com|        Lille|   Mitsue Tollner|   France|yuki_whobrey@aol.com|         7|\n",
      "|     EMEA|        Herkku Gifts|yahoo.com|       Bergen|   Leota Dilliard|   Norway|fletcher.flosi@ya...|         8|\n",
      "|       NA|     Mini Wheels Co.|  cox.net|San Francisco|      Sage Wieser|      USA| bette_nicka@cox.net|         9|\n",
      "|     EMEA|    Auto Canal Petit|  aol.com|        Paris|     Kris Marrier|   France|     vinouye@aol.com|        10|\n",
      "|     APAC|Australian Collec...|  rim.org|    Melbourne|     Minna Amigon|Australia|  gladys.rim@rim.org|        11|\n",
      "|       NA|     Vitachrome Inc.|  aol.com|          NYC|     Abel Maclead|      USA|yuki_whobrey@aol.com|        12|\n",
      "|       NA|Tekni Collectable...|yahoo.com|       Newark|  Kiley Caldarera|      USA|fletcher.flosi@ya...|        13|\n",
      "|       NA|     Gift Depot Inc.|  cox.net|  Bridgewater|    Graciela Ruta|      USA| bette_nicka@cox.net|        14|\n",
      "|     EMEA|   La Rochelle Gifts|  aol.com|       Nantes|    Cammy Albares|   France|     vinouye@aol.com|        15|\n",
      "|       NA|Marta's Replicas Co.|  rim.org|    Cambridge|  Mattie Poquette|      USA|  gladys.rim@rim.org|        16|\n",
      "|     EMEA| Toys of Finland Co.|  aol.com|     Helsinki|   Meaghan Garufi|  Finland|yuki_whobrey@aol.com|        17|\n",
      "|     EMEA|  Baane Mini Imports|yahoo.com|      Stavern|       Gladys Rim|   Norway|fletcher.flosi@ya...|        18|\n",
      "|       NA|Diecast Classics ...|  cox.net|    Allentown|     Yuki Whobrey|      USA| bette_nicka@cox.net|        19|\n",
      "|       NA|   Land of Toys Inc.|  aol.com|          NYC|   Fletcher Flosi|      USA|     vinouye@aol.com|        20|\n",
      "+---------+--------------------+---------+-------------+-----------------+---------+--------------------+----------+\n",
      "only showing top 20 rows"
     ]
    }
   ],
   "source": [
    "customersDF =  Map.apply(customersDF, f = parsedomain)\n",
    "customersDF.toDF().show();"
   ]
  },
  {
   "cell_type": "code",
   "execution_count": 25,
   "id": "f757ec32",
   "metadata": {},
   "outputs": [
    {
     "data": {
      "application/vnd.jupyter.widget-view+json": {
       "model_id": "",
       "version_major": 2,
       "version_minor": 0
      },
      "text/plain": [
       "FloatProgress(value=0.0, bar_style='info', description='Progress:', layout=Layout(height='25px', width='50%'),…"
      ]
     },
     "metadata": {},
     "output_type": "display_data"
    },
    {
     "name": "stdout",
     "output_type": "stream",
     "text": [
      "+-------------+---------+--------------------+---------+-----------------+------+--------------------+----------+\n",
      "|         city|   domain|        customername|  country|  contactfullname|region|               email|customerid|\n",
      "+-------------+---------+--------------------+---------+-----------------+------+--------------------+----------+\n",
      "|          NYC|  rim.org|   Land of Toys Inc.|      USA|       James Butt|    NA|  gladys.rim@rim.org|         1|\n",
      "|        Reims|  aol.com|  Reims Collectables|   France|Josephine Darakjy|  EMEA|yuki_whobrey@aol.com|         2|\n",
      "|        Paris|yahoo.com|     Lyon Souveniers|   France|       Art Venere|  EMEA|fletcher.flosi@ya...|         3|\n",
      "|     Pasadena|  cox.net|   Toys4GrownUps.com|      USA|   Lenna Paprocki|    NA| bette_nicka@cox.net|         4|\n",
      "|San Francisco|  aol.com|Corporate Gift Id...|      USA|   Donette Foller|    NA|     vinouye@aol.com|         5|\n",
      "|   Burlingame|  rim.org|Technics Stores Inc.|      USA|   Simona Morasca|    NA|  gladys.rim@rim.org|         6|\n",
      "|        Lille|  aol.com|Daedalus Designs ...|   France|   Mitsue Tollner|  EMEA|yuki_whobrey@aol.com|         7|\n",
      "|       Bergen|yahoo.com|        Herkku Gifts|   Norway|   Leota Dilliard|  EMEA|fletcher.flosi@ya...|         8|\n",
      "|San Francisco|  cox.net|     Mini Wheels Co.|      USA|      Sage Wieser|    NA| bette_nicka@cox.net|         9|\n",
      "|        Paris|  aol.com|    Auto Canal Petit|   France|     Kris Marrier|  EMEA|     vinouye@aol.com|        10|\n",
      "|    Melbourne|  rim.org|Australian Collec...|Australia|     Minna Amigon|  APAC|  gladys.rim@rim.org|        11|\n",
      "|          NYC|  aol.com|     Vitachrome Inc.|      USA|     Abel Maclead|    NA|yuki_whobrey@aol.com|        12|\n",
      "|       Newark|yahoo.com|Tekni Collectable...|      USA|  Kiley Caldarera|    NA|fletcher.flosi@ya...|        13|\n",
      "|  Bridgewater|  cox.net|     Gift Depot Inc.|      USA|    Graciela Ruta|    NA| bette_nicka@cox.net|        14|\n",
      "|       Nantes|  aol.com|   La Rochelle Gifts|   France|    Cammy Albares|  EMEA|     vinouye@aol.com|        15|\n",
      "|    Cambridge|  rim.org|Marta's Replicas Co.|      USA|  Mattie Poquette|    NA|  gladys.rim@rim.org|        16|\n",
      "|     Helsinki|  aol.com| Toys of Finland Co.|  Finland|   Meaghan Garufi|  EMEA|yuki_whobrey@aol.com|        17|\n",
      "|      Stavern|yahoo.com|  Baane Mini Imports|   Norway|       Gladys Rim|  EMEA|fletcher.flosi@ya...|        18|\n",
      "|    Allentown|  cox.net|Diecast Classics ...|      USA|     Yuki Whobrey|    NA| bette_nicka@cox.net|        19|\n",
      "|          NYC|  aol.com|   Land of Toys Inc.|      USA|   Fletcher Flosi|    NA|     vinouye@aol.com|        20|\n",
      "+-------------+---------+--------------------+---------+-----------------+------+--------------------+----------+\n",
      "only showing top 20 rows"
     ]
    }
   ],
   "source": [
    "customersDF = customersDF.rename_field(\"territory\",\"region\")\n",
    "customersDF.toDF().show();"
   ]
  },
  {
   "cell_type": "code",
   "execution_count": null,
   "id": "ea446658",
   "metadata": {},
   "outputs": [],
   "source": []
  }
 ],
 "metadata": {
  "kernelspec": {
   "display_name": "Sparkmagic (PySpark)",
   "language": "python",
   "name": "pysparkkernel"
  },
  "language_info": {
   "codemirror_mode": {
    "name": "python",
    "version": 3
   },
   "file_extension": ".py",
   "mimetype": "text/x-python",
   "name": "pyspark",
   "pygments_lexer": "python3"
  }
 },
 "nbformat": 4,
 "nbformat_minor": 5
}
