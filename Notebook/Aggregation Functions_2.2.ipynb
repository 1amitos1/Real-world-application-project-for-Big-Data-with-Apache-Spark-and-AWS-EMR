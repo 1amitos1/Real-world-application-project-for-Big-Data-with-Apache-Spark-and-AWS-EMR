{
 "cells": [
  {
   "cell_type": "code",
   "execution_count": 1,
   "id": "172ba5c8",
   "metadata": {},
   "outputs": [
    {
     "name": "stdout",
     "output_type": "stream",
     "text": [
      "Starting Spark application\n"
     ]
    },
    {
     "data": {
      "text/html": [
       "<table>\n",
       "<tr><th>ID</th><th>YARN Application ID</th><th>Kind</th><th>State</th><th>Spark UI</th><th>Driver log</th><th>User</th><th>Current session?</th></tr><tr><td>2</td><td>application_1646039170379_0003</td><td>pyspark</td><td>idle</td><td><a target=\"_blank\" href=\"http://ip-172-32-70-228.us-east-2.compute.internal:20888/proxy/application_1646039170379_0003/\">Link</a></td><td><a target=\"_blank\" href=\"http://ip-172-32-80-123.us-east-2.compute.internal:8042/node/containerlogs/container_1646039170379_0003_01_000001/livy\">Link</a></td><td>None</td><td>✔</td></tr></table>"
      ],
      "text/plain": [
       "<IPython.core.display.HTML object>"
      ]
     },
     "metadata": {},
     "output_type": "display_data"
    },
    {
     "data": {
      "application/vnd.jupyter.widget-view+json": {
       "model_id": "",
       "version_major": 2,
       "version_minor": 0
      },
      "text/plain": [
       "FloatProgress(value=0.0, bar_style='info', description='Progress:', layout=Layout(height='25px', width='50%'),…"
      ]
     },
     "metadata": {},
     "output_type": "display_data"
    },
    {
     "name": "stdout",
     "output_type": "stream",
     "text": [
      "SparkSession available as 'spark'.\n"
     ]
    },
    {
     "data": {
      "application/vnd.jupyter.widget-view+json": {
       "model_id": "",
       "version_major": 2,
       "version_minor": 0
      },
      "text/plain": [
       "FloatProgress(value=0.0, bar_style='info', description='Progress:', layout=Layout(height='25px', width='50%'),…"
      ]
     },
     "metadata": {},
     "output_type": "display_data"
    }
   ],
   "source": [
    "import sys\n",
    "from awsglue.transforms import *\n",
    "from awsglue.utils import getResolvedOptions\n",
    "from pyspark.context import SparkContext\n",
    "from awsglue.context import GlueContext\n",
    "from awsglue.job import Job\n",
    "\n",
    "glueContext = GlueContext(SparkContext.getOrCreate())"
   ]
  },
  {
   "cell_type": "code",
   "execution_count": 2,
   "id": "fa817b2b",
   "metadata": {},
   "outputs": [
    {
     "data": {
      "application/vnd.jupyter.widget-view+json": {
       "model_id": "",
       "version_major": 2,
       "version_minor": 0
      },
      "text/plain": [
       "FloatProgress(value=0.0, bar_style='info', description='Progress:', layout=Layout(height='25px', width='50%'),…"
      ]
     },
     "metadata": {},
     "output_type": "display_data"
    },
    {
     "name": "stdout",
     "output_type": "stream",
     "text": [
      "+-----------+---------------+---------+---------------+-------+---------------+-------+------+--------+-------+-----------+----+-----------+--------+----------+\n",
      "|ordernumber|quantityordered|priceeach|orderlinenumber|  sales|      orderdate| status|qtr_id|month_id|year_id|productline|msrp|productcode|dealsize|customerid|\n",
      "+-----------+---------------+---------+---------------+-------+---------------+-------+------+--------+-------+-----------+----+-----------+--------+----------+\n",
      "|      10107|             30|     95.7|              2| 2871.0| 2/24/2003 0:00|Shipped|     1|       2|   2003|Motorcycles|  95|   S10_1678|   Small|         1|\n",
      "|      10121|             34|    81.35|              5| 2765.9|  5/7/2003 0:00|Shipped|     2|       5|   2003|Motorcycles|  95|   S10_1678|   Small|         2|\n",
      "|      10134|             41|    94.74|              2|3884.34|  7/1/2003 0:00|Shipped|     3|       7|   2003|Motorcycles|  95|   S10_1678|  Medium|         3|\n",
      "|      10145|             45|    83.26|              6| 3746.7| 8/25/2003 0:00|Shipped|     3|       8|   2003|Motorcycles|  95|   S10_1678|  Medium|         4|\n",
      "|      10159|             49|    100.0|             14|5205.27|10/10/2003 0:00|Shipped|     4|      10|   2003|Motorcycles|  95|   S10_1678|  Medium|         5|\n",
      "|      10168|             36|    96.66|              1|3479.76|10/28/2003 0:00|Shipped|     4|      10|   2003|Motorcycles|  95|   S10_1678|  Medium|         6|\n",
      "|      10180|             29|    86.13|              9|2497.77|11/11/2003 0:00|Shipped|     4|      11|   2003|Motorcycles|  95|   S10_1678|   Small|         7|\n",
      "|      10188|             48|    100.0|              1|5512.32|11/18/2003 0:00|Shipped|     4|      11|   2003|Motorcycles|  95|   S10_1678|  Medium|         8|\n",
      "|      10201|             22|    98.57|              2|2168.54| 12/1/2003 0:00|Shipped|     4|      12|   2003|Motorcycles|  95|   S10_1678|   Small|         9|\n",
      "|      10211|             41|    100.0|             14|4708.44| 1/15/2004 0:00|Shipped|     1|       1|   2004|Motorcycles|  95|   S10_1678|  Medium|        10|\n",
      "|      10223|             37|    100.0|              1|3965.66| 2/20/2004 0:00|Shipped|     1|       2|   2004|Motorcycles|  95|   S10_1678|  Medium|        11|\n",
      "|      10237|             23|    100.0|              7|2333.12|  4/5/2004 0:00|Shipped|     2|       4|   2004|Motorcycles|  95|   S10_1678|   Small|        12|\n",
      "|      10251|             28|    100.0|              2|3188.64| 5/18/2004 0:00|Shipped|     2|       5|   2004|Motorcycles|  95|   S10_1678|  Medium|        13|\n",
      "|      10263|             34|    100.0|              2|3676.76| 6/28/2004 0:00|Shipped|     2|       6|   2004|Motorcycles|  95|   S10_1678|  Medium|        14|\n",
      "|      10275|             45|    92.83|              1|4177.35| 7/23/2004 0:00|Shipped|     3|       7|   2004|Motorcycles|  95|   S10_1678|  Medium|        15|\n",
      "|      10285|             36|    100.0|              6|4099.68| 8/27/2004 0:00|Shipped|     3|       8|   2004|Motorcycles|  95|   S10_1678|  Medium|        16|\n",
      "|      10299|             23|    100.0|              9|2597.39| 9/30/2004 0:00|Shipped|     3|       9|   2004|Motorcycles|  95|   S10_1678|   Small|        17|\n",
      "|      10309|             41|    100.0|              5|4394.38|10/15/2004 0:00|Shipped|     4|      10|   2004|Motorcycles|  95|   S10_1678|  Medium|        18|\n",
      "|      10318|             46|    94.74|              1|4358.04| 11/2/2004 0:00|Shipped|     4|      11|   2004|Motorcycles|  95|   S10_1678|  Medium|        19|\n",
      "|      10329|             42|    100.0|              1|4396.14|11/15/2004 0:00|Shipped|     4|      11|   2004|Motorcycles|  95|   S10_1678|  Medium|        20|\n",
      "+-----------+---------------+---------+---------------+-------+---------------+-------+------+--------+-------+-----------+----+-----------+--------+----------+\n",
      "only showing top 20 rows"
     ]
    }
   ],
   "source": [
    "salesDF = glueContext.create_dynamic_frame.from_catalog(\n",
    "             database=\"amitdbetl\",\n",
    "             table_name=\"sales\")\n",
    "salesDF = salesDF.toDF();\n",
    "salesDF.show()"
   ]
  },
  {
   "cell_type": "code",
   "execution_count": 3,
   "id": "6b0f4ed8",
   "metadata": {},
   "outputs": [
    {
     "data": {
      "application/vnd.jupyter.widget-view+json": {
       "model_id": "",
       "version_major": 2,
       "version_minor": 0
      },
      "text/plain": [
       "FloatProgress(value=0.0, bar_style='info', description='Progress:', layout=Layout(height='25px', width='50%'),…"
      ]
     },
     "metadata": {},
     "output_type": "display_data"
    },
    {
     "name": "stdout",
     "output_type": "stream",
     "text": [
      "+--------------------+-----+------+-----+\n",
      "|productline_dealsize|Large|Medium|Small|\n",
      "+--------------------+-----+------+-----+\n",
      "|         Motorcycles|   19|   156|  156|\n",
      "|              Trains|    1|    26|   50|\n",
      "|        Classic Cars|   97|   530|  340|\n",
      "|              Planes|    9|   129|  168|\n",
      "|    Trucks and Buses|    7|   175|  119|\n",
      "|               Ships|    0|   107|  127|\n",
      "|        Vintage Cars|   24|   261|  322|\n",
      "+--------------------+-----+------+-----+"
     ]
    }
   ],
   "source": [
    "salesDF.crosstab('productline', 'dealsize').show()"
   ]
  },
  {
   "cell_type": "code",
   "execution_count": 4,
   "id": "8c634840",
   "metadata": {},
   "outputs": [
    {
     "data": {
      "application/vnd.jupyter.widget-view+json": {
       "model_id": "",
       "version_major": 2,
       "version_minor": 0
      },
      "text/plain": [
       "FloatProgress(value=0.0, bar_style='info', description='Progress:', layout=Layout(height='25px', width='50%'),…"
      ]
     },
     "metadata": {},
     "output_type": "display_data"
    },
    {
     "name": "stdout",
     "output_type": "stream",
     "text": [
      "+-------+------------------+\n",
      "|summary|             sales|\n",
      "+-------+------------------+\n",
      "|  count|              2823|\n",
      "|   mean|  3553.88907190932|\n",
      "| stddev|1841.8651057401842|\n",
      "|    min|            482.13|\n",
      "|    max|           14082.8|\n",
      "+-------+------------------+"
     ]
    }
   ],
   "source": [
    "salesDF.describe('sales').show()"
   ]
  },
  {
   "cell_type": "code",
   "execution_count": 5,
   "id": "dff8d974",
   "metadata": {},
   "outputs": [
    {
     "data": {
      "application/vnd.jupyter.widget-view+json": {
       "model_id": "",
       "version_major": 2,
       "version_minor": 0
      },
      "text/plain": [
       "FloatProgress(value=0.0, bar_style='info', description='Progress:', layout=Layout(height='25px', width='50%'),…"
      ]
     },
     "metadata": {},
     "output_type": "display_data"
    },
    {
     "name": "stdout",
     "output_type": "stream",
     "text": [
      "+----------------+-----+\n",
      "|     productline|count|\n",
      "+----------------+-----+\n",
      "|     Motorcycles|  331|\n",
      "|    Vintage Cars|  607|\n",
      "|           Ships|  234|\n",
      "|Trucks and Buses|  301|\n",
      "|    Classic Cars|  967|\n",
      "|          Trains|   77|\n",
      "|          Planes|  306|\n",
      "+----------------+-----+"
     ]
    }
   ],
   "source": [
    "salesDF.groupby('productline').count().show()"
   ]
  },
  {
   "cell_type": "code",
   "execution_count": 6,
   "id": "a4807a98",
   "metadata": {},
   "outputs": [
    {
     "data": {
      "application/vnd.jupyter.widget-view+json": {
       "model_id": "",
       "version_major": 2,
       "version_minor": 0
      },
      "text/plain": [
       "FloatProgress(value=0.0, bar_style='info', description='Progress:', layout=Layout(height='25px', width='50%'),…"
      ]
     },
     "metadata": {},
     "output_type": "display_data"
    },
    {
     "name": "stdout",
     "output_type": "stream",
     "text": [
      "+----------------+--------------------+\n",
      "|     productline|min(quantityordered)|\n",
      "+----------------+--------------------+\n",
      "|     Motorcycles|                  20|\n",
      "|    Vintage Cars|                   6|\n",
      "|           Ships|                  20|\n",
      "|Trucks and Buses|                  11|\n",
      "|    Classic Cars|                  10|\n",
      "|          Trains|                  20|\n",
      "|          Planes|                  11|\n",
      "+----------------+--------------------+\n",
      "\n",
      "+----------------+--------------------+\n",
      "|     productline|max(quantityordered)|\n",
      "+----------------+--------------------+\n",
      "|     Motorcycles|                  66|\n",
      "|    Vintage Cars|                  76|\n",
      "|           Ships|                  55|\n",
      "|Trucks and Buses|                  70|\n",
      "|    Classic Cars|                  97|\n",
      "|          Trains|                  51|\n",
      "|          Planes|                  85|\n",
      "+----------------+--------------------+\n",
      "\n",
      "+----------------+--------------------+\n",
      "|     productline|avg(quantityordered)|\n",
      "+----------------+--------------------+\n",
      "|     Motorcycles|  35.235649546827794|\n",
      "|    Vintage Cars|   34.71004942339374|\n",
      "|           Ships|   34.73076923076923|\n",
      "|Trucks and Buses|   35.80398671096346|\n",
      "|    Classic Cars|  35.152016546018615|\n",
      "|          Trains|   35.22077922077922|\n",
      "|          Planes|   35.05555555555556|\n",
      "+----------------+--------------------+\n",
      "\n",
      "+----------------+--------------------+\n",
      "|     productline|sum(quantityordered)|\n",
      "+----------------+--------------------+\n",
      "|     Motorcycles|               11663|\n",
      "|    Vintage Cars|               21069|\n",
      "|           Ships|                8127|\n",
      "|Trucks and Buses|               10777|\n",
      "|    Classic Cars|               33992|\n",
      "|          Trains|                2712|\n",
      "|          Planes|               10727|\n",
      "+----------------+--------------------+"
     ]
    }
   ],
   "source": [
    "salesDF.select(\"productline\",\"quantityordered\").groupby('productline').min().show()\n",
    "salesDF.select(\"productline\",\"quantityordered\").groupby('productline').max().show()\n",
    "salesDF.select(\"productline\",\"quantityordered\").groupby('productline').mean().show()\n",
    "salesDF.select(\"productline\",\"quantityordered\").groupby('productline').sum().show()"
   ]
  },
  {
   "cell_type": "code",
   "execution_count": 7,
   "id": "3e9e5958",
   "metadata": {},
   "outputs": [
    {
     "data": {
      "application/vnd.jupyter.widget-view+json": {
       "model_id": "",
       "version_major": 2,
       "version_minor": 0
      },
      "text/plain": [
       "FloatProgress(value=0.0, bar_style='info', description='Progress:', layout=Layout(height='25px', width='50%'),…"
      ]
     },
     "metadata": {},
     "output_type": "display_data"
    },
    {
     "name": "stdout",
     "output_type": "stream",
     "text": [
      "+----------------+--------------+--------------------+------------------+\n",
      "|     productline|max(priceeach)|avg(quantityordered)|        sum(sales)|\n",
      "+----------------+--------------+--------------------+------------------+\n",
      "|     Motorcycles|         100.0|  35.235649546827794|1166388.3400000003|\n",
      "|    Vintage Cars|         100.0|   34.71004942339374|1903150.8399999992|\n",
      "|           Ships|         100.0|   34.73076923076923|         714437.13|\n",
      "|Trucks and Buses|         100.0|   35.80398671096346|1127789.8399999996|\n",
      "|    Classic Cars|         100.0|  35.152016546018615| 3919615.659999997|\n",
      "|          Trains|         100.0|   35.22077922077922|226243.46999999997|\n",
      "|          Planes|         100.0|   35.05555555555556| 975003.5700000001|\n",
      "+----------------+--------------+--------------------+------------------+"
     ]
    }
   ],
   "source": [
    "salesDF.groupby('productline').agg({'quantityordered': 'mean','sales': 'sum','priceeach' : 'max'}).show()"
   ]
  },
  {
   "cell_type": "code",
   "execution_count": null,
   "id": "0e3de4c8",
   "metadata": {},
   "outputs": [
    {
     "data": {
      "application/vnd.jupyter.widget-view+json": {
       "model_id": "b6251f5b483e494c8475d9b28d1c7da5",
       "version_major": 2,
       "version_minor": 0
      },
      "text/plain": [
       "FloatProgress(value=0.0, bar_style='info', description='Progress:', layout=Layout(height='25px', width='50%'),…"
      ]
     },
     "metadata": {},
     "output_type": "display_data"
    }
   ],
   "source": [
    "salesDF.orderBy(salesDF.sales).show()\n",
    "salesDF.orderBy(salesDF.sales.desc()).show()"
   ]
  },
  {
   "cell_type": "code",
   "execution_count": null,
   "id": "1ce23eca",
   "metadata": {},
   "outputs": [],
   "source": []
  }
 ],
 "metadata": {
  "kernelspec": {
   "display_name": "Sparkmagic (PySpark)",
   "language": "python",
   "name": "pysparkkernel"
  },
  "language_info": {
   "codemirror_mode": {
    "name": "python",
    "version": 3
   },
   "file_extension": ".py",
   "mimetype": "text/x-python",
   "name": "pyspark",
   "pygments_lexer": "python3"
  }
 },
 "nbformat": 4,
 "nbformat_minor": 5
}
